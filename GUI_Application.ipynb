{
  "nbformat": 4,
  "nbformat_minor": 0,
  "metadata": {
    "colab": {
      "name": "GUI Application.ipynb",
      "provenance": [],
      "authorship_tag": "ABX9TyPJdYMnoMbOguvJV/TfNIud",
      "include_colab_link": true
    },
    "kernelspec": {
      "name": "python3",
      "display_name": "Python 3"
    },
    "language_info": {
      "name": "python"
    }
  },
  "cells": [
    {
      "cell_type": "markdown",
      "metadata": {
        "id": "view-in-github",
        "colab_type": "text"
      },
      "source": [
        "<a href=\"https://colab.research.google.com/github/cocolleen/OOP-1-2/blob/main/GUI_Application.ipynb\" target=\"_parent\"><img src=\"https://colab.research.google.com/assets/colab-badge.svg\" alt=\"Open In Colab\"/></a>"
      ]
    },
    {
      "cell_type": "code",
      "execution_count": 18,
      "metadata": {
        "id": "fs3UD_BFqI0t",
        "colab": {
          "base_uri": "https://localhost:8080/"
        },
        "outputId": "b43e48ac-7131-4cd8-a6bd-8c3b264a3603"
      },
      "outputs": [
        {
          "output_type": "stream",
          "name": "stdout",
          "text": [
            "The prelim grade of student 1 is 90\n",
            "The midterm grade of student 1 is 95\n",
            "The final grade of student 1 is 100\n",
            "The semestral grade of student 1 is 95.0\n",
            "His gender is Female\n"
          ]
        }
      ],
      "source": [
        "#@title Students Grade in OOP\n",
        "\n",
        "Student_Name1 = \"Enter the student name:\" #@param{type: \"string\"}\n",
        "prelim =  90#@param {type: \"number\"}\n",
        "midterm = 95 #@param {type: \"number\"}\n",
        "final =  100#@param {type: \"number\"}\n",
        "semestral_grade = (prelim+midterm+final)/3\n",
        "\n",
        "print(\"The prelim grade of student 1 is\"+ \" \"+ str(prelim))\n",
        "print(\"The midterm grade of student 1 is\"+ \" \"+ str(midterm))\n",
        "print(\"The final grade of student 1 is\"+  \" \"+ str(final))\n",
        "print(\"The semestral grade of student 1 is\"+ \" \"+ str(semestral_grade))\n",
        "\n",
        "\n",
        "\n",
        "#@title Gender\n",
        "Gender = \"Female\" #@param[\"Male\", \"Female\"]\n",
        "print(\"His gender is \" + Gender)\n",
        "\n",
        "\n",
        "birthdate = '2002-11-16'#@param {type:\"date\"}\n"
      ]
    },
    {
      "cell_type": "markdown",
      "source": [
        ""
      ],
      "metadata": {
        "id": "euSPeG1EvIvt"
      }
    },
    {
      "cell_type": "markdown",
      "source": [
        ""
      ],
      "metadata": {
        "id": "9VXKGdB5vIrU"
      }
    }
  ]
}