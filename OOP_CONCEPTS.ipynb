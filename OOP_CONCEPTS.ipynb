{
  "nbformat": 4,
  "nbformat_minor": 0,
  "metadata": {
    "colab": {
      "name": "OOP CONCEPTS.ipynb",
      "provenance": [],
      "authorship_tag": "ABX9TyPZsJekL0dvOtcJm4VJ2vsh",
      "include_colab_link": true
    },
    "kernelspec": {
      "name": "python3",
      "display_name": "Python 3"
    },
    "language_info": {
      "name": "python"
    }
  },
  "cells": [
    {
      "cell_type": "markdown",
      "metadata": {
        "id": "view-in-github",
        "colab_type": "text"
      },
      "source": [
        "<a href=\"https://colab.research.google.com/github/cocolleen/OOP-1-2/blob/main/OOP_CONCEPTS.ipynb\" target=\"_parent\"><img src=\"https://colab.research.google.com/assets/colab-badge.svg\" alt=\"Open In Colab\"/></a>"
      ]
    },
    {
      "cell_type": "markdown",
      "source": [
        "##Python Classes and Objects"
      ],
      "metadata": {
        "id": "W_w999BrR7RK"
      }
    },
    {
      "cell_type": "markdown",
      "source": [
        "Create Class"
      ],
      "metadata": {
        "id": "n_JxXFNASDmB"
      }
    },
    {
      "cell_type": "code",
      "source": [
        "class MyClass:\n",
        "  pass\n",
        "  "
      ],
      "metadata": {
        "id": "tU-Xk2hHSCML"
      },
      "execution_count": 1,
      "outputs": []
    },
    {
      "cell_type": "code",
      "source": [
        "class OOP1_2:\n",
        "  X = 6\n",
        "  print(X)      #case sensitive"
      ],
      "metadata": {
        "colab": {
          "base_uri": "https://localhost:8080/"
        },
        "id": "sinA8ZBAStq0",
        "outputId": "f65ed7a8-3d08-4661-9867-160ee583ec27"
      },
      "execution_count": 2,
      "outputs": [
        {
          "output_type": "stream",
          "name": "stdout",
          "text": [
            "6\n"
          ]
        }
      ]
    },
    {
      "cell_type": "markdown",
      "source": [
        "Creating Objects"
      ],
      "metadata": {
        "id": "kdWKZXXDUFEE"
      }
    },
    {
      "cell_type": "code",
      "source": [
        "class OOP1_2:\n",
        "  def __init__(self, name,age):\n",
        "      self.name = name          #attributes\n",
        "      self.age = age\n",
        "\n",
        "  def identity(self):\n",
        "    print(self.name, self.age)\n",
        "  \n",
        "person = OOP1_2(\"Colleen\", 19)\n",
        "\n",
        "print(person.identity)"
      ],
      "metadata": {
        "colab": {
          "base_uri": "https://localhost:8080/"
        },
        "id": "Ose1LIYiTMZi",
        "outputId": "1cc460b7-6511-42f0-e7d7-211df6b86815"
      },
      "execution_count": 4,
      "outputs": [
        {
          "output_type": "stream",
          "name": "stdout",
          "text": [
            "<bound method OOP1_2.identity of <__main__.OOP1_2 object at 0x7fb484f477d0>>\n"
          ]
        }
      ]
    },
    {
      "cell_type": "code",
      "source": [
        "class OOP1_2:\n",
        "  def __init__(self, name,age):\n",
        "      self.name = name          #attributes\n",
        "      self.age = age\n",
        "\n",
        "  def identity(self):\n",
        "    print(self.name, self.age)\n",
        "  \n",
        "person = OOP1_2(\"Colleen\", 19)\n",
        "\n",
        "print(person.name)\n",
        "print(person.age)\n",
        "print(person.identity)"
      ],
      "metadata": {
        "colab": {
          "base_uri": "https://localhost:8080/"
        },
        "id": "XaDIppTzVFty",
        "outputId": "becda6c2-d013-4c39-b1ec-c2005c664a7a"
      },
      "execution_count": 7,
      "outputs": [
        {
          "output_type": "stream",
          "name": "stdout",
          "text": [
            "Colleen\n",
            "19\n",
            "<bound method OOP1_2.identity of <__main__.OOP1_2 object at 0x7fb484f00290>>\n"
          ]
        }
      ]
    },
    {
      "cell_type": "code",
      "source": [
        "#Modify the Object Name\n",
        "\n",
        "person.name = \"Lliee\"\n",
        "print(person.name)\n",
        "print(person.age)"
      ],
      "metadata": {
        "colab": {
          "base_uri": "https://localhost:8080/"
        },
        "id": "IqTuuh4JWR7N",
        "outputId": "184920ec-5b9a-47d1-951f-91eb2ef51e82"
      },
      "execution_count": 9,
      "outputs": [
        {
          "output_type": "stream",
          "name": "stdout",
          "text": [
            "Lliee\n",
            "19\n"
          ]
        }
      ]
    },
    {
      "cell_type": "code",
      "source": [
        "#Delete the Objects\n",
        "\n",
        "del person.name\n"
      ],
      "metadata": {
        "id": "7Dlo8WYIW71Z"
      },
      "execution_count": 10,
      "outputs": []
    },
    {
      "cell_type": "code",
      "source": [
        "print(person.age)\n",
        "print(person.name)"
      ],
      "metadata": {
        "colab": {
          "base_uri": "https://localhost:8080/",
          "height": 200
        },
        "id": "LWTzPCCNXG9P",
        "outputId": "5c672189-373f-4fa7-ac79-4d77bc1d7d8e"
      },
      "execution_count": 14,
      "outputs": [
        {
          "output_type": "stream",
          "name": "stdout",
          "text": [
            "19\n"
          ]
        },
        {
          "output_type": "error",
          "ename": "AttributeError",
          "evalue": "ignored",
          "traceback": [
            "\u001b[0;31m---------------------------------------------------------------------------\u001b[0m",
            "\u001b[0;31mAttributeError\u001b[0m                            Traceback (most recent call last)",
            "\u001b[0;32m<ipython-input-14-a40730572b38>\u001b[0m in \u001b[0;36m<module>\u001b[0;34m()\u001b[0m\n\u001b[1;32m      1\u001b[0m \u001b[0mprint\u001b[0m\u001b[0;34m(\u001b[0m\u001b[0mperson\u001b[0m\u001b[0;34m.\u001b[0m\u001b[0mage\u001b[0m\u001b[0;34m)\u001b[0m\u001b[0;34m\u001b[0m\u001b[0;34m\u001b[0m\u001b[0m\n\u001b[0;32m----> 2\u001b[0;31m \u001b[0mprint\u001b[0m\u001b[0;34m(\u001b[0m\u001b[0mperson\u001b[0m\u001b[0;34m.\u001b[0m\u001b[0mname\u001b[0m\u001b[0;34m)\u001b[0m\u001b[0;34m\u001b[0m\u001b[0;34m\u001b[0m\u001b[0m\n\u001b[0m",
            "\u001b[0;31mAttributeError\u001b[0m: 'OOP1_2' object has no attribute 'name'"
          ]
        }
      ]
    },
    {
      "cell_type": "markdown",
      "source": [
        "Application 1 - Wrote a Python program that computes the area of a Square, sides as attribute."
      ],
      "metadata": {
        "id": "PA403fz1XoD2"
      }
    },
    {
      "cell_type": "code",
      "source": [
        "class Square:\n",
        "  def __init__(self, sides):\n",
        "    self.sides = sides\n",
        "  \n",
        "  def area(self):\n",
        "    return self.sides * self.sides    #formula to compute the area of the square\n",
        "\n",
        "  def display(self):\n",
        "    print(\"The area of a square is \", self.area() )\n",
        "\n",
        "square = Square(4)\n",
        "\n",
        "square.display()\n",
        "\n"
      ],
      "metadata": {
        "colab": {
          "base_uri": "https://localhost:8080/"
        },
        "id": "_A9q6s_VXmvT",
        "outputId": "dbe3a447-a45a-4d90-a477-61251aa4d815"
      },
      "execution_count": 20,
      "outputs": [
        {
          "output_type": "stream",
          "name": "stdout",
          "text": [
            "The area of a square is  16\n"
          ]
        }
      ]
    },
    {
      "cell_type": "markdown",
      "source": [
        "Application 2 - is to write a python program that displays full name, age, course, school. Create a class named MyClass, and name, age, and school as attributes"
      ],
      "metadata": {
        "id": "2QN3oaCQbiFW"
      }
    },
    {
      "cell_type": "code",
      "source": [
        "class MyClass:\n",
        "  def __init__(self, name, age, school, course):\n",
        "    self.name = name\n",
        "    self.age = age\n",
        "    self.school = school\n",
        "    self.course = course\n",
        "  \n",
        "  def display(self):\n",
        "    print(self.name, self.age, self.school, self.course)\n",
        "\n",
        "person = MyClass(\"Colleen M. Quijano\", \"19 years old\", \"Cavite State University\", \"Computer Engineering\")\n",
        "\n",
        "print(\"Hi! I am \", person.name)\n",
        "print(\"I am \", person.age)\n",
        "print(\"Studying at\", person.school)\n",
        "print(\"Currently taking Bachelor of Science in \", person.course)\n",
        "\n"
      ],
      "metadata": {
        "colab": {
          "base_uri": "https://localhost:8080/"
        },
        "id": "aeNAxkLVb9fO",
        "outputId": "16597124-fd17-4d6e-83f9-f793ec8ce575"
      },
      "execution_count": 26,
      "outputs": [
        {
          "output_type": "stream",
          "name": "stdout",
          "text": [
            "Hi I am  Colleen M. Quijano\n",
            "I am  19 years old\n",
            "Studying at Cavite State University\n",
            "Currently taking Bachelor of Science in  Computer Engineering\n"
          ]
        }
      ]
    }
  ]
}