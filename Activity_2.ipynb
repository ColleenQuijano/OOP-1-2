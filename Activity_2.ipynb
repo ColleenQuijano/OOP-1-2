{
  "nbformat": 4,
  "nbformat_minor": 0,
  "metadata": {
    "colab": {
      "name": "Activity 2.ipynb",
      "provenance": [],
      "authorship_tag": "ABX9TyPMBcA7nTRlCdYuvJpd3aZl",
      "include_colab_link": true
    },
    "kernelspec": {
      "name": "python3",
      "display_name": "Python 3"
    },
    "language_info": {
      "name": "python"
    }
  },
  "cells": [
    {
      "cell_type": "markdown",
      "metadata": {
        "id": "view-in-github",
        "colab_type": "text"
      },
      "source": [
        "<a href=\"https://colab.research.google.com/github/cocolleen/OOP-1-2/blob/main/Activity_2.ipynb\" target=\"_parent\"><img src=\"https://colab.research.google.com/assets/colab-badge.svg\" alt=\"Open In Colab\"/></a>"
      ]
    },
    {
      "cell_type": "code",
      "source": [
        "#Write a program that converts the temperature Celsius to Farenheit. Create a class name Temperature. \n",
        "#Create Celsius as attribute name, Temp() as method, and temp1 as object name.\n",
        "\n",
        "class Temperature:\n",
        "  def __init__(self, Celsius):\n",
        "    self.Celsius = Celsius\n",
        "\n",
        "  def Temp(self):\n",
        "    result = float((1.8*self.Celsius)+32)\n",
        "    return result\n",
        "  \n",
        "  \n",
        "temp_input = float(input(\"Input temp In Celsius: \"))\n",
        "temp1 = Temperature(temp_input)\n",
        "print(\"The conversion of Celsius to Farenheit is: \", round(temp1.Temp(), 2))"
      ],
      "metadata": {
        "colab": {
          "base_uri": "https://localhost:8080/"
        },
        "id": "-UlY5S9bYRvo",
        "outputId": "342781ac-7e99-4732-eff7-cdcd9af08978"
      },
      "execution_count": 20,
      "outputs": [
        {
          "output_type": "stream",
          "name": "stdout",
          "text": [
            "Input temp In Celsius: 2.3\n",
            "The conversion of Celsius to Farenheit is:  36.14\n"
          ]
        }
      ]
    },
    {
      "cell_type": "code",
      "source": [
        "#Define an Area() method of the class that calculates the circle’s area.\n",
        "#Define a Perimeter() method of the class which allows you to calculate the perimeter of the circle.\n",
        "\n",
        "class Circle:\n",
        "  def __init__(self, radius):\n",
        "    self.radius = radius\n",
        "  \n",
        "  def Area(self):\n",
        "    area = float(3.1416*(self.radius*self.radius))\n",
        "    return area\n",
        "  \n",
        "  def Perimeter(self):\n",
        "    perimeter = float(2*3.1416*self.radius)\n",
        "    return perimeter\n",
        "  \n",
        "radius_input = float(input(\"Input a radius: \"))\n",
        "radius1 = Circle(radius_input)\n",
        "print(\"\\n\", \"The area of the circle with the radius,\", radius_input, \"is\", round(radius1.Area(), 2), \n",
        "      \"\\n\", \"The area of the circle with the radius,\", radius_input, \"is\", round(radius1.Perimeter(),2))"
      ],
      "metadata": {
        "id": "O0dCUeNpflPs",
        "colab": {
          "base_uri": "https://localhost:8080/"
        },
        "outputId": "912a9068-6ab6-4aaa-f455-e72c2a9000bb"
      },
      "execution_count": 29,
      "outputs": [
        {
          "output_type": "stream",
          "name": "stdout",
          "text": [
            "Input a radius: 4.5\n",
            "\n",
            " The area of the circle with the radius, 4.5 is 63.62 \n",
            " The area of the circle with the radius, 4.5 is 28.27\n"
          ]
        }
      ]
    }
  ]
}