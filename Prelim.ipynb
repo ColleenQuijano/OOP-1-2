{
  "nbformat": 4,
  "nbformat_minor": 0,
  "metadata": {
    "colab": {
      "name": "Prelim.ipynb",
      "provenance": [],
      "authorship_tag": "ABX9TyPFPg46FaHlEVTt10wrX2cF",
      "include_colab_link": true
    },
    "kernelspec": {
      "name": "python3",
      "display_name": "Python 3"
    },
    "language_info": {
      "name": "python"
    }
  },
  "cells": [
    {
      "cell_type": "markdown",
      "metadata": {
        "id": "view-in-github",
        "colab_type": "text"
      },
      "source": [
        "<a href=\"https://colab.research.google.com/github/cocolleen/OOP-1-2/blob/main/Prelim.ipynb\" target=\"_parent\"><img src=\"https://colab.research.google.com/assets/colab-badge.svg\" alt=\"Open In Colab\"/></a>"
      ]
    },
    {
      "cell_type": "markdown",
      "source": [
        ""
      ],
      "metadata": {
        "id": "9seb4iNogd1r"
      }
    },
    {
      "cell_type": "code",
      "source": [
        "class student:\n",
        "  def __init__(self, name, student_no, age, school, course):\n",
        "    self.name = name\n",
        "    self.student_no = student_no\n",
        "    self.age = age\n",
        "    self.school = school\n",
        "    self.course = course\n",
        "  \n",
        "  def info(self):\n",
        "    print(\"\\n\", \"Hello I am\", self.name, \"and my student number is \", self.student_no,\n",
        "          \"\\n\", \"I am currently \", self.age, \"\\n\",\n",
        "          \"Studying at\", self.school, \"taking\", self.course)\n",
        "\n",
        "Myself = student(\"Colleen M. Quijano\", \"109637080237\", \"19 years old\", \"Cavite State Univeristy - Main Campus\", \"Bachelor of Science in Computer Engineering\") \n",
        "Myself.info()\n"
      ],
      "metadata": {
        "colab": {
          "base_uri": "https://localhost:8080/"
        },
        "id": "l9uUaXUqggkq",
        "outputId": "aad0097f-e9a8-462a-8e56-68787b6ec03c"
      },
      "execution_count": 13,
      "outputs": [
        {
          "output_type": "stream",
          "name": "stdout",
          "text": [
            "\n",
            " Hello I am Colleen M. Quijano and my student number is  109637080237 \n",
            " I am currently  19 years old \n",
            " Studying at Cavite State Univeristy - Main Campus taking Bachelor of Science in Computer Engineering\n"
          ]
        }
      ]
    }
  ]
}