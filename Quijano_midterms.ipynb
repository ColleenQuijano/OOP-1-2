{
  "nbformat": 4,
  "nbformat_minor": 0,
  "metadata": {
    "colab": {
      "name": "Quijano_midterms",
      "provenance": [],
      "authorship_tag": "ABX9TyMk/JvQaUubMBmb8bqA94Ex",
      "include_colab_link": true
    },
    "kernelspec": {
      "name": "python3",
      "display_name": "Python 3"
    },
    "language_info": {
      "name": "python"
    }
  },
  "cells": [
    {
      "cell_type": "markdown",
      "metadata": {
        "id": "view-in-github",
        "colab_type": "text"
      },
      "source": [
        "<a href=\"https://colab.research.google.com/github/cocolleen/OOP-1-2/blob/main/Quijano_midterms.ipynb\" target=\"_parent\"><img src=\"https://colab.research.google.com/assets/colab-badge.svg\" alt=\"Open In Colab\"/></a>"
      ]
    },
    {
      "cell_type": "markdown",
      "source": [
        "#Midterm Exam in Object-Oriented Programming"
      ],
      "metadata": {
        "id": "Yie6ie0moqdr"
      }
    },
    {
      "cell_type": "markdown",
      "source": [
        "##Problem 1: Modify the program below by adding two conversion methods - Fahrenheit to Celsius and Kelvin to Celsius"
      ],
      "metadata": {
        "id": "yVlU7YWl0763"
      }
    },
    {
      "cell_type": "code",
      "source": [
        "def main():\n",
        "  class TemperatureConversion:\n",
        "   def __init__(self, temp=1):\n",
        "    self._temp = temp\n",
        "  class CelsiusToFahrenheit(TemperatureConversion):\n",
        "    def conversion(self):\n",
        "     return (self._temp * 9) / 5 + 32\n",
        "  class CelsiusToKelvin(TemperatureConversion):\n",
        "    def conversion(self):\n",
        "      return self._temp + 273.15\n",
        "  tempInCelsius = float(input(\"Enter the temperature in Celsius:\"))\n",
        "  convert = CelsiusToKelvin(tempInCelsius)\n",
        "  print(str(convert.conversion()) + \" Kelvin\")\n",
        "  convert = CelsiusToFahrenheit(tempInCelsius)\n",
        "  print(str(convert.conversion()) + \" Fahrenheit\")\n",
        "\n",
        "\n",
        "  class FahrenheitToCelsius(TemperatureConversion):\n",
        "    def conversion(self):\n",
        "     return (self._temp - 32) / 1.8\n",
        "  class KelvinToCelsius(TemperatureConversion):\n",
        "    def conversion(self):\n",
        "      return self._temp - 273.15\n",
        "  print('\\n')\n",
        "  tempInFahrenheit = float(input(\"Enter the temperature in Fahrenheit:\"))\n",
        "  convert = FahrenheitToCelsius(tempInFahrenheit)\n",
        "  print(str(round(convert.conversion(),2)) + \" Celsius\")\n",
        "  print('\\n')\n",
        "  tempInKelvin = float(input(\"Enter the temperature in Kelvin:\"))\n",
        "  convert = KelvinToCelsius(tempInKelvin)\n",
        "  print(str(round(convert.conversion(),2)) + \" Celsius\")\n",
        "\n",
        "main()"
      ],
      "metadata": {
        "colab": {
          "base_uri": "https://localhost:8080/"
        },
        "id": "_egg7fj3ow8G",
        "outputId": "eb8e0934-4a71-4b1d-bee6-a7d33d34e3ef"
      },
      "execution_count": null,
      "outputs": [
        {
          "output_type": "stream",
          "name": "stdout",
          "text": [
            "Enter the temperature in Celsius:32\n",
            "305.15 Kelvin\n",
            "89.6 Fahrenheit\n",
            "\n",
            "\n",
            "Enter the temperature in Fahrenheit:90\n",
            "32.22 Celsius\n",
            "\n",
            "\n",
            "Enter the temperature in Kelvin:66\n",
            "-207.15 Celsius\n"
          ]
        }
      ]
    }
  ]
}