{
  "nbformat": 4,
  "nbformat_minor": 0,
  "metadata": {
    "colab": {
      "name": "Prelim Exam.ipynb",
      "provenance": [],
      "authorship_tag": "ABX9TyOc7bTfhDRHp31yWl9wFrq2",
      "include_colab_link": true
    },
    "kernelspec": {
      "name": "python3",
      "display_name": "Python 3"
    },
    "language_info": {
      "name": "python"
    }
  },
  "cells": [
    {
      "cell_type": "markdown",
      "metadata": {
        "id": "view-in-github",
        "colab_type": "text"
      },
      "source": [
        "<a href=\"https://colab.research.google.com/github/cocolleen/OOP-1-2/blob/main/Prelim_Exam.ipynb\" target=\"_parent\"><img src=\"https://colab.research.google.com/assets/colab-badge.svg\" alt=\"Open In Colab\"/></a>"
      ]
    },
    {
      "cell_type": "markdown",
      "source": [
        ""
      ],
      "metadata": {
        "id": "9seb4iNogd1r"
      }
    },
    {
      "cell_type": "code",
      "source": [
        "class Student:\n",
        "  def __init__(self, Name, Student_No, Age, School, Course):\n",
        "    self.Name = Name\n",
        "    self.Student_No = Student_No\n",
        "    self.Age = Age\n",
        "    self.School = School\n",
        "    self.Course = Course\n",
        "  \n",
        "  def Info(self):\n",
        "    print(\"\\n\", \"Hi, I am\", self.Name, \"and my student number is\", self.Student_No,\n",
        "          \"\\n\", \"I am currently\", self.Age, \"\\n\",\n",
        "          \"Studying at\", self.School, \"taking\", self.Course)\n",
        "\n",
        "Myself = Student(\"Colleen M. Quijano\", \"202102070\", \"19 years old\", \"Cavite State Univeristy - Main Campus\", \"Bachelor of Science in Computer Engineering\") \n",
        "Myself.Info()\n"
      ],
      "metadata": {
        "colab": {
          "base_uri": "https://localhost:8080/"
        },
        "id": "l9uUaXUqggkq",
        "outputId": "ea1f3c18-996c-4c23-d48e-ecf1b9579ec2"
      },
      "execution_count": 21,
      "outputs": [
        {
          "output_type": "stream",
          "name": "stdout",
          "text": [
            "\n",
            " Hi, I am Colleen M. Quijano and my student number is 202102070 \n",
            " I am currently 19 years old \n",
            " Studying at Cavite State Univeristy - Main Campus taking Bachelor of Science in Computer Engineering\n"
          ]
        }
      ]
    }
  ]
}