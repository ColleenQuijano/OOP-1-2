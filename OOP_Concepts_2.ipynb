{
  "nbformat": 4,
  "nbformat_minor": 0,
  "metadata": {
    "colab": {
      "name": "OOP Concepts 2.ipynb",
      "provenance": [],
      "authorship_tag": "ABX9TyMmq2n5ajk8c+SXtFZlDuQd",
      "include_colab_link": true
    },
    "kernelspec": {
      "name": "python3",
      "display_name": "Python 3"
    },
    "language_info": {
      "name": "python"
    }
  },
  "cells": [
    {
      "cell_type": "markdown",
      "metadata": {
        "id": "view-in-github",
        "colab_type": "text"
      },
      "source": [
        "<a href=\"https://colab.research.google.com/github/cocolleen/OOP-1-2/blob/main/OOP_Concepts_2.ipynb\" target=\"_parent\"><img src=\"https://colab.research.google.com/assets/colab-badge.svg\" alt=\"Open In Colab\"/></a>"
      ]
    },
    {
      "cell_type": "markdown",
      "source": [
        "Classes with Mutliple Objects"
      ],
      "metadata": {
        "id": "x85f2a0fVPF7"
      }
    },
    {
      "cell_type": "code",
      "source": [
        "class Birds:\n",
        "  def __init__(self, bird_name):\n",
        "    self.bird_name = bird_name\n",
        "\n",
        "  def flying_birds(self):\n",
        "    print(f\"{self.bird_name} flies above the sky\")\n",
        "  \n",
        "  def non_flying_birds(self):\n",
        "    print(f\"{self.bird_name} is the national bird of the Philippines\")\n",
        "\n",
        "vulture = Birds(\"Griffo Vulture\")\n",
        "crane = Birds(\"Common Crane\")\n",
        "emu = Birds(\"Emu\")\n",
        "\n",
        "vulture.flying_birds()\n",
        "crane.flying_birds()\n",
        "emu.non_flying_birds() "
      ],
      "metadata": {
        "colab": {
          "base_uri": "https://localhost:8080/"
        },
        "id": "PhRin_-VVTeQ",
        "outputId": "245f5669-a68a-4d89-a378-13ede9ea393b"
      },
      "execution_count": null,
      "outputs": [
        {
          "output_type": "stream",
          "name": "stdout",
          "text": [
            "Griffo Vulture flies above the sky\n",
            "Common Crane flies above the sky\n",
            "Emu is the national bird of the Philippines\n"
          ]
        }
      ]
    },
    {
      "cell_type": "markdown",
      "source": [
        "Encapsulation using manling with doube underscores"
      ],
      "metadata": {
        "id": "5vpGRbV7XRoO"
      }
    },
    {
      "cell_type": "code",
      "source": [
        "class foo:\n",
        "  def __init__(self,a,b):\n",
        "    self.__a = a\n",
        "    self.__b = b\n",
        "  \n",
        "  def add(self):\n",
        "    return self.__a + self.__b  #Private attributes\n",
        "\n",
        "number = foo(3, 4)\n",
        "number.add()\n",
        "\n",
        "number.a = 7 #7,4   7+4 =11\n",
        "number.add()\n"
      ],
      "metadata": {
        "colab": {
          "base_uri": "https://localhost:8080/"
        },
        "id": "dd-50OHFXF8X",
        "outputId": "a63767a3-d2b2-4efb-b666-69fb0a7fcc8a"
      },
      "execution_count": null,
      "outputs": [
        {
          "output_type": "execute_result",
          "data": {
            "text/plain": [
              "7"
            ]
          },
          "metadata": {},
          "execution_count": 14
        }
      ]
    },
    {
      "cell_type": "markdown",
      "source": [
        "Encapsulation with Private Attributes"
      ],
      "metadata": {
        "id": "YOP9eQTeZhxd"
      }
    },
    {
      "cell_type": "code",
      "source": [
        "class Counter:\n",
        "  def __init__(self):\n",
        "    self.__current = 0\n",
        "  \n",
        "  def increment(self):\n",
        "    self.__current += 1\n",
        "  \n",
        "  def value(self):\n",
        "    return self.__current\n",
        "\n",
        "  def reset(self):\n",
        "    self.__current = 0\n",
        "\n",
        "num = Counter()\n",
        "num.counter = 1\n",
        "num.increment()   #counter = counter +1\n",
        "num.increment()\n",
        "num.increment()\n",
        "\n",
        "num.value()"
      ],
      "metadata": {
        "colab": {
          "base_uri": "https://localhost:8080/"
        },
        "id": "Yb586rmmYghT",
        "outputId": "69352097-a2b1-40d9-ca75-1d779f69d472"
      },
      "execution_count": null,
      "outputs": [
        {
          "output_type": "execute_result",
          "data": {
            "text/plain": [
              "3"
            ]
          },
          "metadata": {},
          "execution_count": 25
        }
      ]
    },
    {
      "cell_type": "markdown",
      "source": [
        "Inheritance"
      ],
      "metadata": {
        "id": "HjJ_RxUXckVF"
      }
    },
    {
      "cell_type": "code",
      "source": [
        "#way to represent object that can share the same method.\n",
        "\n",
        "class Person:\n",
        "  def __init__(self, firstname, surname):\n",
        "    self.firstname = firstname\n",
        "    self.surname = surname\n",
        "  \n",
        "  def printname(self):\n",
        "    print(self.firstname, self.surname)\n",
        "\n",
        "person = Person(\"Jia\", \"Mieral\")\n",
        "person.printname()\n",
        "\n",
        "\n",
        "class Teacher(Person):\n",
        "  pass \n",
        "\n",
        "person2 = Teacher(\"Maria\", \"Sayo\")\n",
        "person2.printname()\n",
        "\n",
        "\n",
        "class Student(Person):\n",
        "  pass\n",
        "\n",
        "person3 = Student (\"Colleen\", \"Quijano\")\n",
        "person3.printname()"
      ],
      "metadata": {
        "colab": {
          "base_uri": "https://localhost:8080/"
        },
        "id": "-uqp0IPcdIdb",
        "outputId": "674115d2-5fe0-4e85-efcb-c03a2639140d"
      },
      "execution_count": null,
      "outputs": [
        {
          "output_type": "stream",
          "name": "stdout",
          "text": [
            "Jia Mieral\n",
            "Maria Sayo\n",
            "Colleen Quijano\n"
          ]
        }
      ]
    },
    {
      "cell_type": "markdown",
      "source": [
        "Polymorphism"
      ],
      "metadata": {
        "id": "PmazuIDBfJ-C"
      }
    },
    {
      "cell_type": "code",
      "source": [
        "class RegularPolygon:\n",
        "  def __init__(self, side):\n",
        "    self.side = side\n",
        "  \n",
        "class Square(RegularPolygon):\n",
        "  def area(self):\n",
        "    return self.side * self.side\n",
        "\n",
        "class EquilateralTriangle(RegularPolygon):\n",
        "  def area(self):\n",
        "    return self.side * self.side * 0.433\n",
        "\n",
        "object = Square(4)\n",
        "print(object.area())\n",
        "\n",
        "object2 = EquilateralTriangle(3)\n",
        "print(object2.area())"
      ],
      "metadata": {
        "colab": {
          "base_uri": "https://localhost:8080/"
        },
        "id": "sKju00UefLZy",
        "outputId": "8108ba54-c5f6-4765-faee-663172599130"
      },
      "execution_count": null,
      "outputs": [
        {
          "output_type": "stream",
          "name": "stdout",
          "text": [
            "16\n",
            "3.897\n"
          ]
        }
      ]
    },
    {
      "cell_type": "markdown",
      "source": [
        "*Application* 1\n",
        "1.) Create a Python program that displays the name of three students \n",
        "    (Student  1. Student 2, and Student 3) and their term grades\n",
        "\n",
        "2.) Create a class name Person and attributes-std1 std2 std2, pre,mid,fin \n",
        "\n",
        "3.) Compute the average of each term grade using Grade() method\n",
        "\n",
        "4.) information about students grades must be hidden from others"
      ],
      "metadata": {
        "id": "hmdUVovwhjgA"
      }
    },
    {
      "cell_type": "code",
      "source": [
        "class Person:\n",
        "\n",
        "  def __init__(self,std,prelim,midterm,final):\n",
        "   self.__std = std\n",
        "   self.__prelim = prelim\n",
        "   self.__midterm = midterm\n",
        "   self.__final = final\n",
        "  \n",
        "  def Grade(self):\n",
        "    return ((self.__prelim + self.__midterm + self.__final)/3)\n",
        "\n",
        "\n",
        "class Student_1(Person):\n",
        "  def __init__(self,studentname,prelim,midterm,final):\n",
        "    super().__init__(studentname,prelim,midterm,final)\n",
        "  \n",
        "\n",
        "studentname1 = str(input(\"STUDENT 1 - Enter Student Name: \"))\n",
        "prelims_stud1 = float(input(\"Enter your Prelims Grade: \"))\n",
        "midterms_stud1 = float(input(\"Enter your Midterms Grade: \"))\n",
        "finals_stud1 = float(input(\"Enter your Finals Grade: \"))\n",
        "\n",
        "student1 = Student_1(studentname1,prelims_stud1, midterms_stud1 , finals_stud1)\n",
        "print(\"\\n\")\n",
        "\n",
        "\n",
        "class Student_2(Person):\n",
        "  def __init__(self,studentname,prelim,midterm,final):\n",
        "    super().__init__(studentname,prelim,midterm,final)\n",
        "\n",
        "studentname2 = str(input(\"STUDENT 2 - Enter Student Name: \"))\n",
        "prelims_stud2 = float(input(\"Enter your Prelims Grade: \"))\n",
        "midterms_stud2 = float(input(\"Enter your Midterms Grade: \"))\n",
        "finals_stud2 = float(input(\"Enter your Finals Grade: \"))\n",
        "\n",
        "student2 = Student_2(studentname2, prelims_stud2, midterms_stud2 , finals_stud2)\n",
        "print(\"\\n\")\n",
        "\n",
        "class Student_3(Person):\n",
        "   def __init__(self,studentname,prelim,midterm,final):\n",
        "    super().__init__(studentname,prelim,midterm,final)\n",
        "  \n",
        "studentname3 = str(input(\"STUDENT 3 - Enter Student Name: \"))\n",
        "prelims_stud3 = float(input(\"Enter your Prelims Grade: \"))\n",
        "midterms_stud3 = float(input(\"Enter your Midterms Grade: \"))\n",
        "finals_stud3 = float(input(\"Enter your Finals Grade: \"))\n",
        "\n",
        "student3 = Student_3(studentname2, prelims_stud3, midterms_stud3 , finals_stud3)\n",
        "print(\"\\n\")\n",
        "\n",
        "f_grades = str(input(\"Enter Name: \"))\n",
        "if f_grades == (studentname1):\n",
        "  print(\"Term Grade:\" , round(student1.Grade(),2))\n",
        "else:\n",
        "  if f_grades == (studentname2):\n",
        "    print(\"Term Grade:\" , round(student2.Grade(),2))\n",
        "  else:\n",
        "    if f_grades == (studentname3):\n",
        "      print(\"Term Grade:\" , round(student3.Grade(),2))\n",
        "    else:\n",
        "      if f_grades == \"all\":\n",
        "        print(\"\\n\", \n",
        "              \"Student 1 Name:\", studentname1, \"\\n\", \"Term Grade:\" , round(student1.Grade(),2),\"\\n\", \"\\n\",\n",
        "              \"Student 2 Name:\", studentname2,\"\\n\", \"Term Grade:\" , round(student2.Grade(),2), \"\\n\", \"\\n\",\n",
        "              \"Student 3 Name:\", studentname3,\"\\n\", \"Term Grade:\" , round(student3.Grade(),2)\n",
        "              )\n",
        "      else:\n",
        "        print(\"There's no such student.\")\n",
        "\n",
        "\n",
        "# \"all\" can be typed  to view all the term grades of all the 3 students who's grades and name are iput already. "
      ],
      "metadata": {
        "id": "2HGpfb9Thl1q",
        "colab": {
          "base_uri": "https://localhost:8080/"
        },
        "outputId": "15ea1726-4155-411f-d4dd-cd078bf97ae6"
      },
      "execution_count": null,
      "outputs": [
        {
          "output_type": "stream",
          "name": "stdout",
          "text": [
            "STUDENT 1 - Enter Student Name: Aly\n",
            "Enter your Prelims Grade: 90\n",
            "Enter your Midterms Grade: 90\n",
            "Enter your Finals Grade: 93\n",
            "\n",
            "\n",
            "STUDENT 2 - Enter Student Name: Gio\n",
            "Enter your Prelims Grade: 78\n",
            "Enter your Midterms Grade: 83\n",
            "Enter your Finals Grade: 88\n",
            "\n",
            "\n",
            "STUDENT 3 - Enter Student Name: Oreo\n",
            "Enter your Prelims Grade: 90\n",
            "Enter your Midterms Grade: 93\n",
            "Enter your Finals Grade: 97\n",
            "\n",
            "\n",
            "Enter Name: all\n",
            "\n",
            " Student 1 Name: Aly \n",
            " Term Grade: 91.0 \n",
            " \n",
            " Student 2 Name: Gio \n",
            " Term Grade: 83.0 \n",
            " \n",
            " Student 3 Name: Oreo \n",
            " Term Grade: 93.33\n"
          ]
        }
      ]
    }
  ]
}